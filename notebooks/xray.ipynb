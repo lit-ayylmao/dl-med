{
 "cells": [
  {
   "cell_type": "code",
   "execution_count": null,
   "metadata": {},
   "outputs": [],
   "source": [
    "import cv2 as cv\n",
    "import numpy as np\n",
    "import tensorflow as tf\n",
    "from tensorflow import keras\n",
    "from tensorflow.keras import layers, models, optimizers\n",
    "from matplotlib import pyplot as plt\n",
    "import os\n",
    "import json\n",
    "import urllib.request"
   ]
  },
  {
   "cell_type": "code",
   "execution_count": null,
   "metadata": {},
   "outputs": [],
   "source": [
    "def show_image(img):\n",
    "    plt.figure(figsize=(4, 4))\n",
    "    plt.imshow(img, aspect='equal')\n",
    "\n",
    "def load_file(file):\n",
    "    with open(file, \"r\") as f:\n",
    "        content = f.read()\n",
    "    return json.loads(content)\n",
    "\n",
    "def segment_mask(obj, name, assert_annotations=False):\n",
    "    mask = np.zeros((obj[\"image\"][\"height\"], obj[\"image\"][\"width\"], 3), np.uint8)\n",
    "    annotations = [x for x in obj[\"annotations\"] if x[\"name\"] == name if x.get(\"polygon\")]\n",
    "    if not annotations and assert_annotations:\n",
    "        return False, None\n",
    "    for annotation in annotations:\n",
    "        points = annotation[\"polygon\"][\"path\"]\n",
    "        points = np.array([np.array([x[\"x\"], x[\"y\"]]) for x in points])\n",
    "        mask = cv.fillPoly(mask, pts=np.int32([points]), color=(255, 255, 255))\n",
    "    return True, mask\n",
    "\n",
    "def download_image(obj):\n",
    "    path = \"../xray/images/\" + obj[\"image\"][\"filename\"]\n",
    "    if os.path.exists(path):\n",
    "        return np.uint8(cv.imread(path))\n",
    "    url = obj[\"image\"][\"url\"]\n",
    "    print(\"Downloading {}...\".format(url))\n",
    "    r = urllib.request.urlopen(url)\n",
    "    with open(path, \"wb\") as f:\n",
    "        f.write(r.read())\n",
    "    return np.uint8(cv.imread(path))\n",
    "\n",
    "def show_images(images):\n",
    "    n = len(images)\n",
    "    plt.figure(figsize=(80, 80))\n",
    "    for i in range(n):\n",
    "        ax = plt.subplot(2, n, i + 1)\n",
    "        plt.imshow(images[i], cmap=\"gray\")\n",
    "        ax.get_xaxis().set_visible(False)\n",
    "        ax.get_yaxis().set_visible(False)\n",
    "    plt.show()"
   ]
  },
  {
   "cell_type": "code",
   "execution_count": null,
   "metadata": {},
   "outputs": [],
   "source": [
    "files = [\"../xray/data/\" + x for x in os.listdir(\"../xray/data\")]"
   ]
  },
  {
   "cell_type": "code",
   "execution_count": null,
   "metadata": {},
   "outputs": [],
   "source": [
    "# Remove this if you wanna run the notebook on the whole dataset.\n",
    "files = files[:1000]"
   ]
  },
  {
   "cell_type": "code",
   "execution_count": null,
   "metadata": {},
   "outputs": [],
   "source": [
    "labels = []\n",
    "for file in files:\n",
    "    f = load_file(file)\n",
    "    ls = [x[\"name\"] for x in f[\"annotations\"] if x.get(\"polygon\")]\n",
    "    for l in ls:\n",
    "        if l not in labels:\n",
    "            labels.append(l)\n",
    "            print(l)"
   ]
  },
  {
   "cell_type": "code",
   "execution_count": null,
   "metadata": {},
   "outputs": [],
   "source": [
    "X = []\n",
    "y = []\n",
    "\n",
    "for file in files:\n",
    "    obj = load_file(file)    \n",
    "    #s, bsd = segment_mask(obj, \"Lung\", True)\n",
    "    l, lung_mask = segment_mask(obj, \"Lung\", True)\n",
    "    if l:\n",
    "        image = download_image(obj)\n",
    "        image = cv.cvtColor(image, cv.COLOR_BGR2GRAY)\n",
    "        image = cv.resize(image, (128, 128), interpolation=cv.INTER_AREA) \n",
    "        image = np.float32(image) / 255\n",
    "        lung_mask = cv.cvtColor(lung_mask, cv.COLOR_BGR2GRAY)\n",
    "        lung_mask = cv.resize(lung_mask, (128, 128), interpolation=cv.INTER_AREA) \n",
    "        lung_mask = np.float32(lung_mask) / 255\n",
    "        X.append(image)\n",
    "        y.append(lung_mask)"
   ]
  },
  {
   "cell_type": "code",
   "execution_count": null,
   "metadata": {},
   "outputs": [],
   "source": [
    "X = np.array(X)\n",
    "y = np.array(y)\n",
    "X = X.reshape(X.shape[0], X.shape[1], X.shape[2], 1)\n",
    "y = y.reshape(y.shape[0], y.shape[1], y.shape[2], 1)"
   ]
  },
  {
   "cell_type": "code",
   "execution_count": null,
   "metadata": {},
   "outputs": [],
   "source": [
    "X.shape"
   ]
  },
  {
   "cell_type": "code",
   "execution_count": null,
   "metadata": {},
   "outputs": [],
   "source": [
    "y.shape"
   ]
  },
  {
   "cell_type": "code",
   "execution_count": null,
   "metadata": {},
   "outputs": [],
   "source": [
    "split = int(len(X) * 0.7)\n",
    "X_train = X[:split]\n",
    "X_test = X[split:]\n",
    "y_train = y[:split]\n",
    "y_test = y[split:]"
   ]
  },
  {
   "cell_type": "code",
   "execution_count": null,
   "metadata": {},
   "outputs": [],
   "source": [
    "num = 10\n",
    "alpha = 0.1\n",
    "show_images((X[:num,:,:] * alpha + y[:num,:,:] * (1 - alpha)) / 2)"
   ]
  },
  {
   "cell_type": "code",
   "execution_count": null,
   "metadata": {},
   "outputs": [],
   "source": [
    "input_img = layers.Input(shape=(X.shape[1], X.shape[2], X.shape[3]))  # adapt this if using `channels_first` image data format\n",
    "\n",
    "x = layers.Conv2D(8, (3, 3), activation='relu', padding='same')(input_img)\n",
    "x = layers.MaxPooling2D((2, 2), padding='same')(x)\n",
    "x = layers.UpSampling2D((2, 2))(x)\n",
    "decoded = layers.Conv2D(1, (3, 3), activation='sigmoid', padding='same')(x)\n",
    "model = keras.Model(input_img, decoded)"
   ]
  },
  {
   "cell_type": "code",
   "execution_count": null,
   "metadata": {},
   "outputs": [],
   "source": [
    "def get_model():\n",
    "    inputs = keras.Input(shape=(X.shape[1], X.shape[2], X.shape[3]))\n",
    "\n",
    "    ### [First half of the network: downsampling inputs] ###\n",
    "\n",
    "    # Entry block\n",
    "    x = layers.Conv2D(32, 3, strides=2, padding=\"same\")(inputs)\n",
    "    x = layers.BatchNormalization()(x)\n",
    "    x = layers.Activation(\"relu\")(x)\n",
    "\n",
    "    previous_block_activation = x  # Set aside residual\n",
    "\n",
    "    # Blocks 1, 2, 3 are identical apart from the feature depth.\n",
    "    for filters in [8, 16, 32]:\n",
    "        x = layers.Activation(\"relu\")(x)\n",
    "        x = layers.SeparableConv2D(filters, 3, padding=\"same\")(x)\n",
    "        x = layers.BatchNormalization()(x)\n",
    "\n",
    "        x = layers.Activation(\"relu\")(x)\n",
    "        x = layers.SeparableConv2D(filters, 3, padding=\"same\")(x)\n",
    "        x = layers.BatchNormalization()(x)\n",
    "\n",
    "        x = layers.MaxPooling2D(3, strides=2, padding=\"same\")(x)\n",
    "\n",
    "        # Project residual\n",
    "        residual = layers.Conv2D(filters, 1, strides=2, padding=\"same\")(\n",
    "            previous_block_activation\n",
    "        )\n",
    "        x = layers.add([x, residual])  # Add back residual\n",
    "        previous_block_activation = x  # Set aside next residual\n",
    "\n",
    "    ### [Second half of the network: upsampling inputs] ###\n",
    "\n",
    "    for filters in [32, 16, 8, 4]:\n",
    "        x = layers.Activation(\"relu\")(x)\n",
    "        x = layers.Conv2DTranspose(filters, 3, padding=\"same\")(x)\n",
    "        x = layers.BatchNormalization()(x)\n",
    "\n",
    "        x = layers.Activation(\"relu\")(x)\n",
    "        x = layers.Conv2DTranspose(filters, 3, padding=\"same\")(x)\n",
    "        x = layers.BatchNormalization()(x)\n",
    "\n",
    "        x = layers.UpSampling2D(2)(x)\n",
    "\n",
    "        # Project residual\n",
    "        residual = layers.UpSampling2D(2)(previous_block_activation)\n",
    "        residual = layers.Conv2D(filters, 1, padding=\"same\")(residual)\n",
    "        x = layers.add([x, residual])  # Add back residual\n",
    "        previous_block_activation = x  # Set aside next residual\n",
    "\n",
    "    # Add a per-pixel classification layer\n",
    "    outputs = layers.Conv2D(y.shape[3], 3, activation=\"sigmoid\", padding=\"same\")(x)\n",
    "\n",
    "    # Define the model\n",
    "    model = keras.Model(inputs, outputs)\n",
    "    return model\n",
    "\n",
    "\n",
    "# Free up RAM in case the model definition cells were run multiple times\n",
    "keras.backend.clear_session()\n",
    "\n",
    "# Build model\n",
    "model = get_model()\n",
    "model.summary()"
   ]
  },
  {
   "cell_type": "code",
   "execution_count": null,
   "metadata": {},
   "outputs": [],
   "source": [
    "# optimizer = optimizers.Adadelta(learning_rate=1.0, rho=0.95, epsilon=10e-6)\n",
    "\n",
    "model.compile(optimizer='adam', loss='binary_crossentropy')"
   ]
  },
  {
   "cell_type": "code",
   "execution_count": null,
   "metadata": {},
   "outputs": [],
   "source": [
    "model.fit(\n",
    "    X_train, \n",
    "    y_train,\n",
    "    epochs=10,\n",
    "    batch_size=8,\n",
    "    shuffle=True,\n",
    "    validation_data=(X_test, y_test)\n",
    ")"
   ]
  },
  {
   "cell_type": "code",
   "execution_count": null,
   "metadata": {},
   "outputs": [],
   "source": [
    "y_pred = model.predict(X_test)"
   ]
  },
  {
   "cell_type": "code",
   "execution_count": null,
   "metadata": {},
   "outputs": [],
   "source": [
    "num = 20\n",
    "show_images(y_test[:num])\n",
    "show_images(y_pred[:num])\n",
    "show_images(np.abs(y_test[:num] - y_pred[:num]))"
   ]
  },
  {
   "cell_type": "code",
   "execution_count": null,
   "metadata": {},
   "outputs": [],
   "source": [
    "plt.figure(figsize=(20, 20))\n",
    "for i in range(32):\n",
    "    color = cv.cvtColor(X_test[i], cv.COLOR_GRAY2RGB)\n",
    "    prediction = cv.cvtColor(y_pred[i], cv.COLOR_GRAY2RGB)\n",
    "    prediction[:,:,0:2] = 0\n",
    "    ax = plt.subplot(8, 8, i + 1)\n",
    "    plt.imshow(np.clip(color + prediction, 0, 1))\n",
    "    ax.get_xaxis().set_visible(False)\n",
    "    ax.get_yaxis().set_visible(False)\n",
    "plt.show()    "
   ]
  },
  {
   "cell_type": "code",
   "execution_count": null,
   "metadata": {},
   "outputs": [],
   "source": [
    "plt.figure(figsize=(50, 50))\n",
    "for i in range(32):\n",
    "    image = X_test[i].copy() * y_pred[i]\n",
    "    ax = plt.subplot(8, 8, i + 1)\n",
    "    plt.imshow(image, cmap=\"rainbow\")\n",
    "    ax.get_xaxis().set_visible(False)\n",
    "    ax.get_yaxis().set_visible(False)\n",
    "plt.show()    "
   ]
  },
  {
   "cell_type": "code",
   "execution_count": null,
   "metadata": {},
   "outputs": [],
   "source": []
  },
  {
   "cell_type": "code",
   "execution_count": null,
   "metadata": {},
   "outputs": [],
   "source": []
  }
 ],
 "metadata": {
  "kernelspec": {
   "display_name": "Python 3",
   "language": "python",
   "name": "python3"
  },
  "language_info": {
   "codemirror_mode": {
    "name": "ipython",
    "version": 3
   },
   "file_extension": ".py",
   "mimetype": "text/x-python",
   "name": "python",
   "nbconvert_exporter": "python",
   "pygments_lexer": "ipython3",
   "version": "3.7.6"
  }
 },
 "nbformat": 4,
 "nbformat_minor": 4
}

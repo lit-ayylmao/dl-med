{
 "cells": [
  {
   "cell_type": "code",
   "execution_count": null,
   "metadata": {},
   "outputs": [],
   "source": [
    "import cv2 as cv\n",
    "import numpy as np\n",
    "import tensorflow as tf\n",
    "from tensorflow.keras import layers, models\n",
    "from matplotlib import pyplot as plt"
   ]
  },
  {
   "cell_type": "code",
   "execution_count": null,
   "metadata": {},
   "outputs": [],
   "source": [
    "#TO-DO: rewrite red and green mask into the same method.\n",
    "def red_mask(img, bandwidth, min_sat, min_val):\n",
    "    half_band = bandwidth // 2\n",
    "    hsv = cv.cvtColor(img, cv.COLOR_RGB2HSV)\n",
    "    l = np.array([0, min_sat, min_val])\n",
    "    u = np.array([0 + half_band, 255, 255])\n",
    "    m1 = cv.inRange(hsv, l, u)\n",
    "    l = np.array([180 - half_band, min_sat, min_val])\n",
    "    u = np.array([180, 255, 255])\n",
    "    m2 = cv.inRange(hsv, l, u)\n",
    "    return m1 + m2\n",
    "\n",
    "def green_mask(img, bandwidth, min_sat, min_val):\n",
    "    half_band = bandwidth // 2\n",
    "    hsv = cv.cvtColor(img, cv.COLOR_RGB2HSV)\n",
    "    l = np.array([60, min_sat, min_val])\n",
    "    u = np.array([60 + half_band, 255, 255])\n",
    "    m1 = cv.inRange(hsv, l, u)\n",
    "    l = np.array([60 - half_band, min_sat, min_val])\n",
    "    u = np.array([60, 255, 255])\n",
    "    m2 = cv.inRange(hsv, l, u)\n",
    "    return m1 + m2\n",
    "\n",
    "def dilate(img, size):\n",
    "    element = cv.getStructuringElement(\n",
    "        cv.MORPH_ELLIPSE, \n",
    "        (2 * size + 1, 2 * size + 1), \n",
    "        (size, size)\n",
    "    )\n",
    "    return cv.dilate(gray, element)"
   ]
  },
  {
   "cell_type": "code",
   "execution_count": null,
   "metadata": {},
   "outputs": [],
   "source": [
    "ecg = cv.imread(\"../ecg/normal_1.png\")\n",
    "ecg = cv.cvtColor(ecg, cv.COLOR_BGR2RGB) \n",
    "ecg = cv.resize(ecg, (ecg.shape[1] * 5, ecg.shape[0] * 5), interpolation = cv.INTER_AREA) "
   ]
  },
  {
   "cell_type": "code",
   "execution_count": null,
   "metadata": {},
   "outputs": [],
   "source": [
    "ecg.shape"
   ]
  },
  {
   "cell_type": "code",
   "execution_count": null,
   "metadata": {},
   "outputs": [],
   "source": [
    "plt.figure(figsize=(12, 12))\n",
    "plt.imshow(ecg, aspect='equal')"
   ]
  },
  {
   "cell_type": "code",
   "execution_count": null,
   "metadata": {},
   "outputs": [],
   "source": [
    "mask = red_mask(ecg, 32, 31, 96)\n",
    "plt.figure(figsize=(12, 12))\n",
    "plt.imshow(mask, aspect='equal')"
   ]
  },
  {
   "cell_type": "code",
   "execution_count": null,
   "metadata": {},
   "outputs": [],
   "source": [
    "mask2 = green_mask(ecg, 32, 31, 96)\n",
    "plt.figure(figsize=(12, 12))\n",
    "plt.imshow(mask2, aspect='equal')"
   ]
  },
  {
   "cell_type": "code",
   "execution_count": null,
   "metadata": {},
   "outputs": [],
   "source": [
    "gray = cv.cvtColor(ecg, cv.COLOR_RGB2GRAY) \n",
    "ret, gray = cv.threshold(gray, 127, 255, cv.THRESH_BINARY_INV)\n",
    "gray[gray > 1] = 255\n",
    "plt.figure(figsize=(12, 12))\n",
    "plt.imshow(gray, aspect='equal', cmap='gray')"
   ]
  },
  {
   "cell_type": "code",
   "execution_count": null,
   "metadata": {},
   "outputs": [],
   "source": [
    "gray[np.where(mask > 1)] = 0\n",
    "gray[np.where(mask2 > 1)] = 0\n",
    "plt.figure(figsize=(12, 12))\n",
    "plt.imshow(gray, aspect='equal', cmap='gray')"
   ]
  },
  {
   "cell_type": "code",
   "execution_count": null,
   "metadata": {},
   "outputs": [],
   "source": [
    "dilated = dilate(gray, 30)\n",
    "plt.figure(figsize=(12, 12))\n",
    "plt.imshow(dilated, aspect='equal', cmap='gray')"
   ]
  },
  {
   "cell_type": "code",
   "execution_count": null,
   "metadata": {},
   "outputs": [],
   "source": [
    "gray = dilate(gray, 1)\n",
    "plt.figure(figsize=(12, 12))\n",
    "plt.imshow(gray, aspect='equal', cmap='gray')"
   ]
  },
  {
   "cell_type": "code",
   "execution_count": null,
   "metadata": {},
   "outputs": [],
   "source": [
    "contours, hierarchy = cv.findContours(dilated, cv.RETR_TREE, cv.CHAIN_APPROX_SIMPLE)\n",
    "contoured = ecg.copy()\n",
    "min_area = (gray.shape[0] * gray.shape[1]) / 100\n",
    "rects = []\n",
    "for i, c in enumerate(contours):\n",
    "    x, y, w, h = cv.boundingRect(c)\n",
    "    if w * h > min_area:\n",
    "        rects.append((x, y, w, h))\n",
    "        contoured = cv.rectangle(contoured, (x, y), (x + w, y + h), (0, 0, 255), 3)"
   ]
  },
  {
   "cell_type": "code",
   "execution_count": null,
   "metadata": {},
   "outputs": [],
   "source": [
    "plt.figure(figsize=(12, 12))\n",
    "plt.imshow(contoured, aspect='equal', cmap='gray')"
   ]
  },
  {
   "cell_type": "code",
   "execution_count": null,
   "metadata": {},
   "outputs": [],
   "source": [
    "lines = []\n",
    "for rect in rects:\n",
    "    x, y, w, h = rect\n",
    "    lines.append(gray[y:y + h, x:x + w])"
   ]
  },
  {
   "cell_type": "code",
   "execution_count": null,
   "metadata": {},
   "outputs": [],
   "source": [
    "for line in lines:\n",
    "    plt.figure(figsize=(16, 16))\n",
    "    plt.imshow(line, aspect='equal', cmap='gray')\n",
    "    plt.show()"
   ]
  },
  {
   "cell_type": "code",
   "execution_count": null,
   "metadata": {},
   "outputs": [],
   "source": [
    "def line_to_data(line):\n",
    "    vert = line.shape[0]\n",
    "    last = 0.5\n",
    "    result = []\n",
    "    for i in range(line.shape[1]):\n",
    "        points = np.where(line[:,i] > 0)[0]\n",
    "        if points.size == 0:\n",
    "            result.append(last)\n",
    "        elif points.size == 1:\n",
    "            result.append(1 - points[0] / vert)\n",
    "        else:\n",
    "            result.append(1 - (points[0] + points[-1]) / 2 / vert)\n",
    "        last = result[-1]\n",
    "    result = np.array(result)\n",
    "    result = result - result.min()\n",
    "    result = result * (1 / result.max())\n",
    "    return result\n",
    "\n",
    "def fold(signal, period):\n",
    "    signal = signal - signal.min()\n",
    "    signal = signal * (1 / signal.max())\n",
    "    signal = signal - signal.mean()\n",
    "    min_period, max_period = period\n",
    "    best_fold_score = 0\n",
    "    scores = []\n",
    "    folds = []\n",
    "    for p in range(min_period, max_period):\n",
    "        folded = np.zeros(p)\n",
    "        for i in range(signal.size):\n",
    "            folded[i % folded.size] = folded[i % folded.size] + signal[i]\n",
    "        folded = folded / (signal.size / p)\n",
    "        score = np.abs(folded).sum() / folded.size\n",
    "        if score > best_fold_score:\n",
    "            best_fold = folded\n",
    "            best_fold = best_fold - best_fold.min()\n",
    "            best_fold = best_fold * (1 / best_fold.max())\n",
    "            best_fold_score = score\n",
    "            scores.append([p, score])\n",
    "            folds.append(best_fold)\n",
    "    scores = np.array(scores)\n",
    "    x = scores[:,0]\n",
    "    y = scores[:,1]\n",
    "    z = np.polyfit(x, y, 2)\n",
    "    f = np.poly1d(z)\n",
    "    positive_slope = np.vectorize(lambda l: f(l + 10e-9) > f(l))\n",
    "    diff = y.copy()\n",
    "    diff[positive_slope(x) == False] = -10e9\n",
    "    best_index = np.where(diff == diff.max())[0][0]\n",
    "    return folds[best_index], scores, f"
   ]
  },
  {
   "cell_type": "code",
   "execution_count": null,
   "metadata": {},
   "outputs": [],
   "source": [
    "for line in lines:\n",
    "    data = line_to_data(line)\n",
    "    non_fourier, scores, polyfit = fold(data, (data.size // 128, data.size // 2))\n",
    "    denoised_data = fourier_denoise(data, f=0.8)\n",
    "    folded, scores, polyfit = fold(denoised_data, (data.size // 128, data.size // 2))\n",
    "\n",
    "    #plt.figure(figsize=(18, 2))\n",
    "    #plt.imshow(line, aspect='equal', cmap='gray')\n",
    "    #plt.show()\n",
    "\n",
    "    plt.figure(figsize=(18, 2))\n",
    "    plt.plot(np.arange(denoised_data.size), denoised_data, c=\"black\")\n",
    "    plt.show()\n",
    "\n",
    "    plt.figure(figsize=(18, 2))\n",
    "\n",
    "    ax = plt.subplot(1, 4, 1)\n",
    "    ax.plot(np.arange(non_fourier.size), non_fourier, c=\"black\")\n",
    "\n",
    "    ax = plt.subplot(1, 4, 2)\n",
    "    ax.plot(np.arange(folded.size), folded, c=\"black\")\n",
    "\n",
    "    cs = min(non_fourier.size, folded.size)\n",
    "    ax = plt.subplot(1, 4, 3)\n",
    "    ax.set_ylim(-0.5, 0.5)\n",
    "    ax.plot(np.arange(cs), non_fourier[:cs] - folded[:cs], c=\"black\")\n",
    "\n",
    "    x = scores[:,0]\n",
    "    y = scores[:,1]\n",
    "    x_new = np.linspace(x[0], x[-1], 50)\n",
    "    y_new = polyfit(x_new)\n",
    "    positive_slope = np.vectorize(lambda l: polyfit(l + 10e-9) > polyfit(l))\n",
    "    diff = y.copy()\n",
    "    diff[positive_slope(x) == False] = -10e9\n",
    "\n",
    "    ax = plt.subplot(1, 4, 4)\n",
    "    ax.plot(x[diff != diff.max()], y[diff != diff.max()], 'x', x_new, y_new, color=\"black\")\n",
    "    ax.plot(x[diff == diff.max()], y[diff == diff.max()], 'o', color=\"red\")\n",
    "    ax.set_xlim([x[0]-1, x[-1] + 1 ])\n",
    "    plt.show()\n",
    "\n",
    "\n"
   ]
  },
  {
   "cell_type": "code",
   "execution_count": null,
   "metadata": {},
   "outputs": [],
   "source": [
    "data = line_to_data(lines[0])    \n",
    "non_fourier, scores, polyfit = fold(data, (data.size // 128, data.size // 10))\n",
    "\n",
    "x = scores[:,0]\n",
    "y = scores[:,1]\n",
    "f = polyfit\n",
    "x_new = np.linspace(x[0], x[-1], 50)\n",
    "y_new = f(x_new)\n",
    "\n",
    "diff = (y - f(x)) * y\n",
    "best_index = np.where(diff == diff.max())[0][0]\n",
    "good = diff == diff.max()\n",
    "bad = diff != diff.max()\n",
    "plt.plot(x[good], y[good], 'o', color=\"black\")\n",
    "plt.plot(x[bad], y[bad], 'x', x_new, y_new, color=\"black\")\n",
    "\n",
    "plt.xlim([x[0]-1, x[-1] + 1 ])\n",
    "plt.show()"
   ]
  },
  {
   "cell_type": "code",
   "execution_count": null,
   "metadata": {},
   "outputs": [],
   "source": [
    "diff = y - f(x)\n",
    "best_index = np.where(diff == diff.max())[0][0]"
   ]
  },
  {
   "cell_type": "code",
   "execution_count": null,
   "metadata": {},
   "outputs": [],
   "source": [
    "def fit_curve(x, y):\n",
    "    z = np.polyfit(x, y, 2)\n",
    "    f = np.poly1d(z)\n",
    "    x_new = np.linspace(x[0], x[-1], 50)\n",
    "    y_new = f(x_new)\n",
    "    plt.plot(x, y, 'o', x_new, y_new)\n",
    "    plt.xlim([x[0]-1, x[-1] + 1 ])\n",
    "    plt.show()"
   ]
  },
  {
   "cell_type": "code",
   "execution_count": null,
   "metadata": {},
   "outputs": [],
   "source": []
  },
  {
   "cell_type": "code",
   "execution_count": null,
   "metadata": {},
   "outputs": [],
   "source": [
    "def fourier_denoise(data, f=0.4):\n",
    "    ft = np.fft.fft(data)\n",
    "    freq = np.fft.fftfreq(data.size)    \n",
    "    threshold = np.abs(freq).max() * f\n",
    "    ft[np.abs(freq) > threshold] = 0\n",
    "    ift = np.fft.ifft(ft)\n",
    "    return ift.real"
   ]
  },
  {
   "cell_type": "code",
   "execution_count": null,
   "metadata": {},
   "outputs": [],
   "source": [
    "def resampled_fourier2d(data, f=10):\n",
    "    data = np.interp(np.arange(0, data.size, data.size / f), np.arange(0, data.size), data)\n",
    "    ft = np.fft.fft(data)\n",
    "    freq = np.fft.fftfreq(data.size)\n",
    "    pr, pi = np.meshgrid(ft.real, ft.imag)\n",
    "    plane = np.sqrt(pr ** 2 + pi ** 2)\n",
    "    plane = np.log(plane)\n",
    "    plane = plane - plane.min()\n",
    "    plane = plane / plane.max()\n",
    "    return plane, freq"
   ]
  },
  {
   "cell_type": "code",
   "execution_count": null,
   "metadata": {},
   "outputs": [],
   "source": [
    "def plot_fourier3d(data, f=10):\n",
    "    plane, freq = resampled_fourier2d(data, f)\n",
    "    fig = plt.figure(figsize=(8, 8))\n",
    "    ax = fig.add_subplot(111, projection='3d')\n",
    "    ax.contourf(np.arange(freq.size), np.arange(freq.size), plane, cmap=\"cool\")\n",
    "    plt.show() "
   ]
  },
  {
   "cell_type": "code",
   "execution_count": null,
   "metadata": {},
   "outputs": [],
   "source": []
  }
 ],
 "metadata": {
  "kernelspec": {
   "display_name": "Python 3",
   "language": "python",
   "name": "python3"
  },
  "language_info": {
   "codemirror_mode": {
    "name": "ipython",
    "version": 3
   },
   "file_extension": ".py",
   "mimetype": "text/x-python",
   "name": "python",
   "nbconvert_exporter": "python",
   "pygments_lexer": "ipython3",
   "version": "3.7.6"
  }
 },
 "nbformat": 4,
 "nbformat_minor": 4
}

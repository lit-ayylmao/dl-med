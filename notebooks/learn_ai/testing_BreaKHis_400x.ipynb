{
 "cells": [
  {
   "cell_type": "code",
   "execution_count": 2,
   "metadata": {},
   "outputs": [],
   "source": [
    "''' Let's create a minimum model for ResNet in Keras, using flowers. \n",
    "        \n",
    "    Reference tutorials,\n",
    "    \n",
    "        https://www.kaggle.com/rajmehra03/flower-recognition-cnn-keras\n",
    "'''\n",
    "\n",
    "import os, json, itertools\n",
    "import numpy as np\n",
    "from pandas import read_csv\n",
    "import matplotlib.pyplot as plt\n",
    "\n",
    "from sklearn.model_selection import train_test_split\n",
    "from sklearn.model_selection import  GroupKFold\n",
    "from sklearn.metrics import confusion_matrix\n",
    "from sklearn.metrics import roc_auc_score\n",
    "from skimage.transform import resize\n",
    "\n",
    "from keras.preprocessing.image import img_to_array, load_img \n",
    "from keras.utils.np_utils import to_categorical\n",
    "from keras.models import Sequential\n",
    "from keras.layers import Dense, Dropout, Flatten, Conv2D, MaxPool2D\n",
    "from keras.optimizers import RMSprop\n",
    "from keras.preprocessing.image import ImageDataGenerator\n",
    "from keras.callbacks import ReduceLROnPlateau, ModelCheckpoint\n",
    "\n",
    "im_w, im_h, im_c = 256, 256, 3"
   ]
  },
  {
   "cell_type": "code",
   "execution_count": 15,
   "metadata": {},
   "outputs": [],
   "source": [
    "BASE_DIR = '../datasets/learn_ai/BreaKHis_400X'\n",
    "TRAIN_DIR = '../datasets/learn_ai/BreaKHis_400X/train'\n",
    "TEST_DIR = '../datasets/learn_ai/BreaKHis_400X/test'\n",
    "MY_DATA_DIR = '../mydatadir/learn_ai/BreaKHis_400X'"
   ]
  },
  {
   "cell_type": "code",
   "execution_count": 19,
   "metadata": {},
   "outputs": [],
   "source": [
    "paths_benign = os.listdir(os.path.join(TRAIN_DIR, 'benign'))\n",
    "paths_malignant = os.listdir(os.path.join(TRAIN_DIR, 'malignant'))\n",
    "n_classes = 2"
   ]
  },
  {
   "cell_type": "code",
   "execution_count": 23,
   "metadata": {},
   "outputs": [],
   "source": [
    "n_benign = len(paths_benign)\n",
    "n_malignant = len(paths_malignant)\n",
    "n_train = n_benign + n_malignant"
   ]
  },
  {
   "cell_type": "code",
   "execution_count": 36,
   "metadata": {},
   "outputs": [],
   "source": [
    "X = np.empty(shape=(n_train, im_w, im_h, im_c), dtype='f4')\n",
    "y = np.empty(n_train, dtype=int)\n",
    "\n",
    "for i, img_path in enumerate(paths_benign):\n",
    "    im = load_img(os.path.join(TRAIN_DIR, 'benign/' + img_path))\n",
    "    im = img_to_array(im)\n",
    "    im = resize(im, (im_w, im_h, im_c), mode='constant', \n",
    "                preserve_range=True)\n",
    "    X[i] = im / 255.0\n",
    "    y[i] = 1\n",
    "    \n",
    "for i, img_path in enumerate(paths_malignant):\n",
    "    im = load_img(os.path.join(TRAIN_DIR, 'malignant/' + img_path))\n",
    "    im = img_to_array(im)\n",
    "    im = resize(im, (im_w, im_h, im_c), mode='constant', \n",
    "                preserve_range=True)\n",
    "    \n",
    "    X[n_benign + i] = im / 255.0\n",
    "    y[n_benign + i] = 0"
   ]
  },
  {
   "cell_type": "code",
   "execution_count": 37,
   "metadata": {},
   "outputs": [
    {
     "data": {
      "image/png": "[encoded data removed]",
      "text/plain": [
       "<Figure size 576x288 with 1 Axes>"
      ]
     },
     "metadata": {
      "needs_background": "light"
     },
     "output_type": "display_data"
    }
   ],
   "source": [
    "nums, counts = np.unique(y, return_counts=True)\n",
    "\n",
    "fig, ax = plt.subplots(1, figsize=(8, 4)) \n",
    "\n",
    "ax.bar(nums, counts)\n",
    "ax.set_title('')\n",
    "ax.set_xlabel('Benign or Malignant')\n",
    "ax.set_ylabel('Occurances')\n",
    "\n",
    "ax.grid() "
   ]
  },
  {
   "cell_type": "code",
   "execution_count": 38,
   "metadata": {},
   "outputs": [
    {
     "name": "stdout",
     "output_type": "stream",
     "text": [
      "(1033, 128, 128, 3)\n",
      "(115, 128, 128, 3)\n",
      "(1033, 2)\n",
      "(115, 2)\n"
     ]
    }
   ],
   "source": [
    "y_hot = to_categorical(y, num_classes=n_classes) \n",
    "\n",
    "X_train, X_valid, y_train, y_valid = train_test_split(\n",
    "    X, y_hot, \n",
    "    test_size = 0.1, \n",
    "    random_state = 3) \n",
    "\n",
    "print(X_train.shape)\n",
    "print(X_valid.shape)\n",
    "print(y_train.shape)\n",
    "print(y_valid.shape)"
   ]
  },
  {
   "cell_type": "code",
   "execution_count": 39,
   "metadata": {},
   "outputs": [],
   "source": [
    "''' CNN architechture \n",
    "        In -> [ (Conv2D -> relu) * 2\n",
    "           ->    MaxPool2D \n",
    "           ->    Dropout ] * 2 \n",
    "           -> Flatten \n",
    "           -> Dense \n",
    "           -> Dropout \n",
    "           -> Out\n",
    "'''\n",
    "\n",
    "model = Sequential()\n",
    "\n",
    "model.add(Conv2D(filters=32, kernel_size=(5,5),\n",
    "                 padding = 'Same', \n",
    "                 activation ='relu', \n",
    "                 input_shape = (im_w,im_h,im_c)))\n",
    "\n",
    "model.add(Conv2D(filters=2, kernel_size=(5,5),\n",
    "                 padding = 'Same', \n",
    "                 activation ='relu'))\n",
    "\n",
    "model.add(MaxPool2D(pool_size = (2,2)))\n",
    "model.add(Dropout(0.25))\n",
    "\n",
    "model.add(Conv2D(filters=32, kernel_size=(5,5),\n",
    "                 padding = 'Same', \n",
    "                 activation ='relu'))\n",
    "\n",
    "model.add(Conv2D(filters=32, kernel_size=(5,5),\n",
    "                 padding = 'Same', \n",
    "                 activation ='relu'))\n",
    "\n",
    "model.add(MaxPool2D(pool_size=(2,2), \n",
    "                    strides=(2,2)))\n",
    "model.add(Dropout(0.25))\n",
    "\n",
    "model.add(Flatten())\n",
    "model.add(Dense(256, activation = \"relu\"))\n",
    "model.add(Dropout(0.5))\n",
    "model.add(Dense(n_classes, activation = \"softmax\"))"
   ]
  },
  {
   "cell_type": "code",
   "execution_count": 40,
   "metadata": {},
   "outputs": [],
   "source": [
    "optimizer = RMSprop(lr=0.001, rho=0.9, epsilon=1e-08, decay=0.0)\n",
    "\n",
    "model.compile(optimizer = optimizer, \n",
    "              loss = \"categorical_crossentropy\", \n",
    "              metrics = [\"accuracy\"]) \n",
    "\n",
    "\n",
    "learning_rate_reduction = ReduceLROnPlateau(monitor = 'val_accuracy', \n",
    "                                            patience = 3, \n",
    "                                            verbose = 1, \n",
    "                                            factor = 0.5, \n",
    "                                            min_lr = 0.00001)\n",
    "\n",
    "checkpoint = ModelCheckpoint('01_learn_flowers.h5', \n",
    "                              verbose = 1, \n",
    "                              save_best_only = True, \n",
    "                              save_weights_only = True)"
   ]
  },
  {
   "cell_type": "code",
   "execution_count": 41,
   "metadata": {},
   "outputs": [],
   "source": [
    "datagen = ImageDataGenerator(\n",
    "        \n",
    "    featurewise_center = False,  \n",
    "    samplewise_center = False,  \n",
    "\n",
    "    featurewise_std_normalization = False,  \n",
    "    samplewise_std_normalization = False,  \n",
    "    \n",
    "    zca_whitening = False,  \n",
    "    \n",
    "    # Augment\n",
    "    \n",
    "    rotation_range = 10,  \n",
    "    \n",
    "    zoom_range = 0.1, \n",
    "    \n",
    "    width_shift_range = 0.1,  \n",
    "    height_shift_range = 0.1\n",
    ")\n",
    "\n",
    "datagen.fit(X_train)"
   ]
  },
  {
   "cell_type": "code",
   "execution_count": 42,
   "metadata": {},
   "outputs": [
    {
     "name": "stdout",
     "output_type": "stream",
     "text": [
      "Epoch 1/24\n",
      "\n",
      "Epoch 00001: val_loss improved from inf to 0.63482, saving model to 01_learn_flowers.h5\n",
      "12/12 - 10s - loss: 4.9201 - accuracy: 0.5824 - val_loss: 0.6348 - val_accuracy: 0.6696 - lr: 0.0010\n",
      "Epoch 2/24\n",
      "\n",
      "Epoch 00002: val_loss improved from 0.63482 to 0.63431, saving model to 01_learn_flowers.h5\n",
      "12/12 - 10s - loss: 0.6353 - accuracy: 0.6758 - val_loss: 0.6343 - val_accuracy: 0.6696 - lr: 0.0010\n",
      "Epoch 3/24\n",
      "\n",
      "Epoch 00003: val_loss did not improve from 0.63431\n",
      "12/12 - 9s - loss: 0.6399 - accuracy: 0.6748 - val_loss: 0.6345 - val_accuracy: 0.6696 - lr: 0.0010\n",
      "Epoch 4/24\n",
      "\n",
      "Epoch 00004: ReduceLROnPlateau reducing learning rate to 0.0005000000237487257.\n",
      "\n",
      "Epoch 00004: val_loss improved from 0.63431 to 0.63396, saving model to 01_learn_flowers.h5\n",
      "12/12 - 9s - loss: 0.6230 - accuracy: 0.6948 - val_loss: 0.6340 - val_accuracy: 0.6696 - lr: 0.0010\n",
      "Epoch 5/24\n",
      "\n",
      "Epoch 00005: val_loss improved from 0.63396 to 0.63393, saving model to 01_learn_flowers.h5\n",
      "12/12 - 9s - loss: 0.6339 - accuracy: 0.6727 - val_loss: 0.6339 - val_accuracy: 0.6696 - lr: 5.0000e-04\n",
      "Epoch 6/24\n",
      "\n",
      "Epoch 00006: val_loss did not improve from 0.63393\n",
      "12/12 - 9s - loss: 0.6411 - accuracy: 0.6653 - val_loss: 0.6373 - val_accuracy: 0.6696 - lr: 5.0000e-04\n",
      "Epoch 7/24\n",
      "\n",
      "Epoch 00007: ReduceLROnPlateau reducing learning rate to 0.0002500000118743628.\n",
      "\n",
      "Epoch 00007: val_loss did not improve from 0.63393\n",
      "12/12 - 9s - loss: 0.6308 - accuracy: 0.6790 - val_loss: 0.6359 - val_accuracy: 0.6696 - lr: 5.0000e-04\n",
      "Epoch 8/24\n",
      "\n",
      "Epoch 00008: val_loss improved from 0.63393 to 0.63340, saving model to 01_learn_flowers.h5\n",
      "12/12 - 9s - loss: 0.6286 - accuracy: 0.6800 - val_loss: 0.6334 - val_accuracy: 0.6696 - lr: 2.5000e-04\n",
      "Epoch 9/24\n",
      "\n",
      "Epoch 00009: val_loss improved from 0.63340 to 0.56220, saving model to 01_learn_flowers.h5\n",
      "12/12 - 9s - loss: 0.5931 - accuracy: 0.6980 - val_loss: 0.5622 - val_accuracy: 0.7304 - lr: 2.5000e-04\n",
      "Epoch 10/24\n",
      "\n",
      "Epoch 00010: val_loss did not improve from 0.56220\n",
      "12/12 - 9s - loss: 0.5536 - accuracy: 0.7159 - val_loss: 0.6454 - val_accuracy: 0.6696 - lr: 2.5000e-04\n",
      "Epoch 11/24\n",
      "\n",
      "Epoch 00011: val_loss improved from 0.56220 to 0.54385, saving model to 01_learn_flowers.h5\n",
      "12/12 - 9s - loss: 0.5282 - accuracy: 0.7371 - val_loss: 0.5439 - val_accuracy: 0.7565 - lr: 2.5000e-04\n",
      "Epoch 12/24\n",
      "\n",
      "Epoch 00012: val_loss did not improve from 0.54385\n",
      "12/12 - 9s - loss: 0.5024 - accuracy: 0.7677 - val_loss: 0.5853 - val_accuracy: 0.6957 - lr: 2.5000e-04\n",
      "Epoch 13/24\n",
      "\n",
      "Epoch 00013: val_loss did not improve from 0.54385\n",
      "12/12 - 9s - loss: 0.4889 - accuracy: 0.7635 - val_loss: 0.7380 - val_accuracy: 0.6696 - lr: 2.5000e-04\n",
      "Epoch 14/24\n",
      "\n",
      "Epoch 00014: val_loss improved from 0.54385 to 0.53188, saving model to 01_learn_flowers.h5\n",
      "12/12 - 10s - loss: 0.4861 - accuracy: 0.7926 - val_loss: 0.5319 - val_accuracy: 0.8087 - lr: 2.5000e-04\n",
      "Epoch 15/24\n",
      "\n",
      "Epoch 00015: val_loss did not improve from 0.53188\n",
      "12/12 - 10s - loss: 0.4755 - accuracy: 0.7867 - val_loss: 0.6065 - val_accuracy: 0.6696 - lr: 2.5000e-04\n",
      "Epoch 16/24\n",
      "\n",
      "Epoch 00016: val_loss did not improve from 0.53188\n",
      "12/12 - 9s - loss: 0.4625 - accuracy: 0.7951 - val_loss: 0.5711 - val_accuracy: 0.7391 - lr: 2.5000e-04\n",
      "Epoch 17/24\n",
      "\n",
      "Epoch 00017: ReduceLROnPlateau reducing learning rate to 0.0001250000059371814.\n",
      "\n",
      "Epoch 00017: val_loss did not improve from 0.53188\n",
      "12/12 - 9s - loss: 0.4872 - accuracy: 0.7878 - val_loss: 0.6178 - val_accuracy: 0.7043 - lr: 2.5000e-04\n",
      "Epoch 18/24\n",
      "\n",
      "Epoch 00018: val_loss improved from 0.53188 to 0.52814, saving model to 01_learn_flowers.h5\n",
      "12/12 - 9s - loss: 0.4249 - accuracy: 0.8289 - val_loss: 0.5281 - val_accuracy: 0.8000 - lr: 1.2500e-04\n",
      "Epoch 19/24\n",
      "\n",
      "Epoch 00019: val_loss did not improve from 0.52814\n",
      "12/12 - 9s - loss: 0.4237 - accuracy: 0.8268 - val_loss: 0.5686 - val_accuracy: 0.7217 - lr: 1.2500e-04\n",
      "Epoch 20/24\n",
      "\n",
      "Epoch 00020: ReduceLROnPlateau reducing learning rate to 6.25000029685907e-05.\n",
      "\n",
      "Epoch 00020: val_loss improved from 0.52814 to 0.52345, saving model to 01_learn_flowers.h5\n",
      "12/12 - 9s - loss: 0.4243 - accuracy: 0.8237 - val_loss: 0.5235 - val_accuracy: 0.8087 - lr: 1.2500e-04\n",
      "Epoch 21/24\n",
      "\n",
      "Epoch 00021: val_loss improved from 0.52345 to 0.50872, saving model to 01_learn_flowers.h5\n",
      "12/12 - 9s - loss: 0.4200 - accuracy: 0.8300 - val_loss: 0.5087 - val_accuracy: 0.8087 - lr: 6.2500e-05\n",
      "Epoch 22/24\n",
      "\n",
      "Epoch 00022: val_loss did not improve from 0.50872\n",
      "12/12 - 9s - loss: 0.4060 - accuracy: 0.8437 - val_loss: 0.5090 - val_accuracy: 0.8087 - lr: 6.2500e-05\n",
      "Epoch 23/24\n",
      "\n",
      "Epoch 00023: ReduceLROnPlateau reducing learning rate to 3.125000148429535e-05.\n",
      "\n",
      "Epoch 00023: val_loss improved from 0.50872 to 0.50288, saving model to 01_learn_flowers.h5\n",
      "12/12 - 9s - loss: 0.4313 - accuracy: 0.8237 - val_loss: 0.5029 - val_accuracy: 0.8087 - lr: 6.2500e-05\n",
      "Epoch 24/24\n",
      "\n",
      "Epoch 00024: val_loss improved from 0.50288 to 0.50099, saving model to 01_learn_flowers.h5\n",
      "12/12 - 9s - loss: 0.4066 - accuracy: 0.8458 - val_loss: 0.5010 - val_accuracy: 0.8087 - lr: 3.1250e-05\n"
     ]
    }
   ],
   "source": [
    "epochs = 24\n",
    "batch_size = 86\n",
    "\n",
    "history = model.fit(\n",
    "    datagen.flow(X_train, y_train, batch_size = batch_size),\n",
    "    epochs = epochs, \n",
    "    validation_data = (X_valid, y_valid),\n",
    "    verbose = 2,\n",
    "    steps_per_epoch = X_train.shape[0] // batch_size, \n",
    "    callbacks = [learning_rate_reduction, checkpoint]\n",
    ")"
   ]
  },
  {
   "cell_type": "code",
   "execution_count": 58,
   "metadata": {},
   "outputs": [
    {
     "data": {
      "image/png": "[encoded data removed]",
      "text/plain": [
       "<Figure size 864x288 with 2 Axes>"
      ]
     },
     "metadata": {
      "needs_background": "light"
     },
     "output_type": "display_data"
    }
   ],
   "source": [
    "fig, (ax1, ax2) = plt.subplots(1, 2, figsize=(12, 4))\n",
    "\n",
    "# Loss\n",
    "ax1.plot(history.history['loss'], label='loss')\n",
    "ax1.plot(history.history['val_loss'], label='val_loss')\n",
    "ax1.plot(np.argmin(history.history['val_loss']), \n",
    "         np.min(history.history['val_loss']), \n",
    "                marker='x', color='r', label='best model')\n",
    "ax1.set_xlabel('Epochs')\n",
    "ax1.set_ylabel('log_loss')\n",
    "ax1.set_title('Loss')\n",
    "ax1.legend()\n",
    "ax1.grid()\n",
    "\n",
    "# Accuracy\n",
    "ax2.plot(history.history['accuracy'], label='accuracy')\n",
    "ax2.plot(history.history['val_accuracy'], label='val_accuracy')\n",
    "ax2.plot(np.argmax(history.history[\"val_accuracy\"]), \n",
    "         np.max(history.history[\"val_accuracy\"]), \n",
    "                marker='x', color='r', label='best model')\n",
    "ax2.set_xlabel('Epochs')\n",
    "ax2.set_ylabel('log_loss')\n",
    "ax2.set_title('Accuracy')\n",
    "ax2.legend()\n",
    "ax2.grid()\n",
    "\n",
    "plt.show() "
   ]
  },
  {
   "cell_type": "code",
   "execution_count": 43,
   "metadata": {},
   "outputs": [],
   "source": [
    "y_pred = model.predict(X_valid)\n",
    "y_pred_hot = np.argmax(y_pred, axis=1) \n",
    "y_true = np.argmax(y_valid, axis=1)\n",
    "\n",
    "Cm = np.array(confusion_matrix(y_true, y_pred_hot)) "
   ]
  },
  {
   "cell_type": "code",
   "execution_count": 44,
   "metadata": {},
   "outputs": [
    {
     "data": {
      "image/png": "[encoded data removed]",
      "text/plain": [
       "<Figure size 432x432 with 2 Axes>"
      ]
     },
     "metadata": {
      "needs_background": "light"
     },
     "output_type": "display_data"
    }
   ],
   "source": [
    "# Plot the confusion matrix\n",
    "\n",
    "fig, ax = plt.subplots(1, figsize=(6, 6))\n",
    "\n",
    "im = ax.imshow(Cm, interpolation='nearest', cmap=plt.cm.Blues)\n",
    "fig.colorbar(im)\n",
    "\n",
    "ax.set_title('Confusion matrix')\n",
    "ax.set_ylabel('True label')\n",
    "ax.set_xlabel('Predicted label')\n",
    "\n",
    "thresh = Cm.max() / 2.\n",
    "for i, j in itertools.product(range(Cm.shape[0]), \n",
    "                              range(Cm.shape[1])):\n",
    "    ax.text(j, i, Cm[i, j],\n",
    "             horizontalalignment = \"center\",\n",
    "             color= \"white\" if Cm[i, j] > thresh else \"black\")\n",
    "\n",
    "ticks = list(range(n_classes))\n",
    "tick_labels = np.arange(len(ticks))\n",
    "    \n",
    "ax.set_xticks(ticks)\n",
    "ax.set_xticklabels(tick_labels)\n",
    "ax.set_yticks(ticks)\n",
    "ax.set_yticklabels(tick_labels)\n",
    "\n",
    "plt.show() "
   ]
  },
  {
   "cell_type": "code",
   "execution_count": 45,
   "metadata": {},
   "outputs": [],
   "source": [
    "errors = (y_pred_hot - y_true != 0)\n",
    "\n",
    "y_pred_hot_errors = y_pred_hot[errors]\n",
    "y_pred_errors = y_pred[errors]\n",
    "y_true_errors = y_true[errors]\n",
    "X_valid_errors = X_valid[errors] "
   ]
  },
  {
   "cell_type": "code",
   "execution_count": 46,
   "metadata": {},
   "outputs": [],
   "source": [
    "# Probabilities of the wrong predicted numbers\n",
    "y_pred_errors_prob = np.max(y_pred_errors,axis = 1)\n",
    "# Predicted probabilities of the true values in the error set\n",
    "true_prob_errors = np.diagonal(np.take(y_pred_errors, \n",
    "                                       y_true_errors, axis=1))\n",
    "# Difference between the probability of the predicted label and the true label\n",
    "delta_pred_true_errors = y_pred_errors_prob - true_prob_errors\n",
    "# Sorted list of the delta prob errors\n",
    "sorted_dela_errors = np.argsort(delta_pred_true_errors) "
   ]
  },
  {
   "cell_type": "code",
   "execution_count": 57,
   "metadata": {},
   "outputs": [
    {
     "data": {
      "text/plain": [
       "(115,)"
      ]
     },
     "execution_count": 57,
     "metadata": {},
     "output_type": "execute_result"
    }
   ],
   "source": [
    "X_valid_errors[0].shape\n",
    "most_important_errors.shape\n",
    "errors.shape"
   ]
  },
  {
   "cell_type": "code",
   "execution_count": 60,
   "metadata": {},
   "outputs": [
    {
     "data": {
      "text/plain": [
       "'\\nmost_important_errors = errors[-16:]\\n\\nfig, axes = plt.subplots(4, 4, figsize=(8, 8))\\n\\nn = 0\\nnrows = 4\\nncols = 4\\n\\nfor i, ax in enumerate(axes.flatten()):\\n    error = most_important_errors[i]\\n    \\n    ax.imshow((X_valid_errors[error]).reshape((256,256,3)))\\n    \\n    pred_label = y_pred_hot_errors[error] \\n    true_label = y_true_errors[error]\\n    \\n    s = \"Predicted: {}\\nTrue: {}\".format(pred_label, true_label)\\n    \\n    ax.set_title(s)\\n    ax.axis(\\'off\\')\\n    \\nfig.tight_layout() '"
      ]
     },
     "execution_count": 60,
     "metadata": {},
     "output_type": "execute_result"
    }
   ],
   "source": [
    "'''\n",
    "most_important_errors = errors[-16:]\n",
    "\n",
    "fig, axes = plt.subplots(4, 4, figsize=(8, 8))\n",
    "\n",
    "n = 0\n",
    "nrows = 4\n",
    "ncols = 4\n",
    "\n",
    "for i, ax in enumerate(axes.flatten()):\n",
    "    error = most_important_errors[i]\n",
    "    \n",
    "    ax.imshow((X_valid_errors[error]).reshape((256,256,3)))\n",
    "    \n",
    "    pred_label = y_pred_hot_errors[error] \n",
    "    true_label = y_true_errors[error]\n",
    "    \n",
    "    s = \"Predicted: {}\\nTrue: {}\".format(pred_label, true_label)\n",
    "    \n",
    "    ax.set_title(s)\n",
    "    ax.axis('off')\n",
    "    \n",
    "fig.tight_layout() '''"
   ]
  },
  {
   "cell_type": "code",
   "execution_count": null,
   "metadata": {},
   "outputs": [],
   "source": []
  },
  {
   "cell_type": "code",
   "execution_count": null,
   "metadata": {},
   "outputs": [],
   "source": []
  },
  {
   "cell_type": "code",
   "execution_count": null,
   "metadata": {},
   "outputs": [],
   "source": []
  },
  {
   "cell_type": "code",
   "execution_count": null,
   "metadata": {},
   "outputs": [],
   "source": []
  },
  {
   "cell_type": "code",
   "execution_count": null,
   "metadata": {},
   "outputs": [],
   "source": []
  }
 ],
 "metadata": {
  "kernelspec": {
   "display_name": "Python 3",
   "language": "python",
   "name": "python3"
  },
  "language_info": {
   "codemirror_mode": {
    "name": "ipython",
    "version": 3
   },
   "file_extension": ".py",
   "mimetype": "text/x-python",
   "name": "python",
   "nbconvert_exporter": "python",
   "pygments_lexer": "ipython3",
   "version": "3.8.5"
  }
 },
 "nbformat": 4,
 "nbformat_minor": 4
}

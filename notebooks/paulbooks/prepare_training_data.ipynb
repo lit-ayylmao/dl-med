{
 "cells": [
  {
   "cell_type": "code",
   "execution_count": 1,
   "metadata": {},
   "outputs": [],
   "source": [
    "import numpy as np\n",
    "import os\n",
    "from tqdm.notebook import tqdm\n",
    "from skimage.transform import resize\n",
    "from keras.preprocessing.image import img_to_array, load_img"
   ]
  },
  {
   "cell_type": "code",
   "execution_count": 2,
   "metadata": {},
   "outputs": [],
   "source": [
    "ROOT_DIR = '../datasets/lung_segmentation/'\n",
    "IMG_DIR = os.path.join(ROOT_DIR, 'CXR_png')\n",
    "MASK_DIR = os.path.join(ROOT_DIR, 'masks')\n",
    "\n",
    "img_w = 128\n",
    "img_h = 128"
   ]
  },
  {
   "cell_type": "code",
   "execution_count": 3,
   "metadata": {},
   "outputs": [
    {
     "name": "stdout",
     "output_type": "stream",
     "text": [
      "There are 800 images with 704 masks\n",
      "566 of the 704 masks have a filename suffix\n"
     ]
    }
   ],
   "source": [
    "# There are fewer masks than images. \n",
    "# Masks have two file naming conventions mixed together, \n",
    "#   MCUCXR_####_#.png         and another with a _mask suffix, \n",
    "#   CHNCXR_####_#_mask.png\n",
    "\n",
    "img_filenames = os.listdir(IMG_DIR)\n",
    "mask_filenames = os.listdir(MASK_DIR)\n",
    "\n",
    "# Find the img_ids for xrays with an available mask\n",
    "mask_stripped = [fname.split('.png')[0] for fname in mask_filenames]\n",
    "img_ids = [fname.split('_mask')[0] for fname in mask_stripped]\n",
    "check = [i for i in mask_stripped if \"mask\" in i]\n",
    "\n",
    "print('There are {0:d} images with {1:d} masks'.format(len(img_filenames), \n",
    "                                                        len(mask_filenames)))\n",
    "print('{0:d} of the {1:d} masks have a filename suffix'.format(len(check), \n",
    "                                                                len(mask_filenames)))"
   ]
  },
  {
   "cell_type": "code",
   "execution_count": 4,
   "metadata": {},
   "outputs": [
    {
     "data": {
      "application/vnd.jupyter.widget-view+json": {
       "model_id": "3de7591cd3254223a83c74ce49bd922c",
       "version_major": 2,
       "version_minor": 0
      },
      "text/plain": [
       "HBox(children=(HTML(value=''), FloatProgress(value=0.0, max=704.0), HTML(value='')))"
      ]
     },
     "metadata": {},
     "output_type": "display_data"
    },
    {
     "name": "stdout",
     "output_type": "stream",
     "text": [
      "\n"
     ]
    }
   ],
   "source": [
    "X = np.empty(shape=(len(img_ids), img_h, img_w, 1), dtype='f4')\n",
    "Y = np.empty(shape=(len(img_ids), img_h, img_w, 1), dtype='f4')\n",
    "\n",
    "for i, mask_filename in tqdm(enumerate(mask_filenames), total=len(mask_filenames)):\n",
    "    \n",
    "    # Find the image's filename from the img_id\n",
    "    img_id = mask_filename.split('.png')[0].split('_mask')[0]\n",
    "    img_filename = img_id + '.png'\n",
    "    \n",
    "    mask = load_img(os.path.join(MASK_DIR, mask_filename), color_mode='grayscale')\n",
    "    img  = load_img(os.path.join(IMG_DIR, img_filename), color_mode='grayscale')\n",
    "    \n",
    "    mask  = img_to_array(mask)\n",
    "    x_img = img_to_array(img)\n",
    "    \n",
    "    mask  = resize(mask, (img_w, img_h, 1), mode='constant', preserve_range=True)\n",
    "    x_img = resize(x_img, (img_w, img_h, 1), mode='constant', preserve_range=True)\n",
    "    \n",
    "    X[i] = x_img / 255.0\n",
    "    Y[i] = mask / 255.0"
   ]
  },
  {
   "cell_type": "code",
   "execution_count": 5,
   "metadata": {},
   "outputs": [
    {
     "name": "stdout",
     "output_type": "stream",
     "text": [
      "Memory usage \n",
      " X: 46.1 MB, Y: 46.1 MB\n"
     ]
    }
   ],
   "source": [
    "print('Memory usage \\n \\\n",
    "X: {0:.1f} MB, Y: {1:.1f} MB'.format(X.nbytes/1e6, Y.nbytes/1e6))"
   ]
  },
  {
   "cell_type": "code",
   "execution_count": 6,
   "metadata": {},
   "outputs": [],
   "source": [
    "np.save('../mydatadir/lung_segmentation/X_train.npy', X)\n",
    "np.save('../mydatadir/lung_segmentation/y_train.npy', Y)"
   ]
  }
 ],
 "metadata": {
  "kernelspec": {
   "display_name": "Python 3",
   "language": "python",
   "name": "python3"
  },
  "language_info": {
   "codemirror_mode": {
    "name": "ipython",
    "version": 3
   },
   "file_extension": ".py",
   "mimetype": "text/x-python",
   "name": "python",
   "nbconvert_exporter": "python",
   "pygments_lexer": "ipython3",
   "version": "3.8.5"
  }
 },
 "nbformat": 4,
 "nbformat_minor": 4
}
